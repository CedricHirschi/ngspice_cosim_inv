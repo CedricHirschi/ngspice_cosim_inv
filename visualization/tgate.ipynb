{
 "cells": [
  {
   "cell_type": "code",
   "execution_count": 23,
   "id": "f8b56db6",
   "metadata": {},
   "outputs": [],
   "source": [
    "import numpy as np\n",
    "import matplotlib.pyplot as plt"
   ]
  },
  {
   "cell_type": "code",
   "execution_count": 24,
   "id": "001a0ce3",
   "metadata": {},
   "outputs": [
    {
     "name": "stdout",
     "output_type": "stream",
     "text": [
      "Signal frequency: 208333.33333333334 Hz\n"
     ]
    }
   ],
   "source": [
    "F_SAMPLING = 80e6\n",
    "N = 128\n",
    "BASE_HARMONIC = 3\n",
    "CONVERSION_CYCLES = 9\n",
    "F_SIGNAL = F_SAMPLING / N * BASE_HARMONIC / CONVERSION_CYCLES\n",
    "\n",
    "print(\"Signal frequency:\", F_SIGNAL, \"Hz\")"
   ]
  },
  {
   "cell_type": "code",
   "execution_count": 25,
   "id": "a3ee3d6a",
   "metadata": {},
   "outputs": [],
   "source": [
    "tt = np.loadtxt(\"../designs/tgate/fft_vout.txt\")\n",
    "ss = np.loadtxt(\"../designs/tgate_slow/fft_vout.txt\")\n",
    "\n",
    "tt_freq = tt[:-1, 0]\n",
    "ss_freq = ss[:-1, 0]\n",
    "tt_ampl = tt[:-1, 1]\n",
    "ss_ampl = ss[:-1, 1]\n",
    "\n",
    "tt_sdr = tt[-1, 0]\n",
    "ss_sdr = ss[-1, 0]\n",
    "tt_enob = tt[-1, 1]\n",
    "ss_enob = ss[-1, 1]"
   ]
  },
  {
   "cell_type": "code",
   "execution_count": 72,
   "id": "6d4aef05",
   "metadata": {},
   "outputs": [
    {
     "data": {
      "image/png": "[encoded data removed]",
      "text/plain": [
       "<Figure size 500x350 with 1 Axes>"
      ]
     },
     "metadata": {},
     "output_type": "display_data"
    }
   ],
   "source": [
    "plot_params = {\n",
    "    'font.family': 'serif',\n",
    "    'font.serif': ['Computer Modern'],\n",
    "    'mathtext.fontset': 'cm',\n",
    "    'text.usetex': True,\n",
    "}\n",
    "\n",
    "# Find harmonic frequencies (multiples of F_SIGNAL)\n",
    "def find_harmonics(freq_data, amp_data, fundamental_freq, max_harmonics=10):\n",
    "    harmonics_freq = []\n",
    "    harmonics_amp = []\n",
    "    \n",
    "    for h in range(1, max_harmonics + 1):\n",
    "        target_freq = h * fundamental_freq\n",
    "        # Find closest frequency bin\n",
    "        idx = np.argmin(np.abs(freq_data - target_freq))\n",
    "        if np.abs(freq_data[idx] - target_freq) < fundamental_freq * 0.1:  # Within 10% tolerance\n",
    "            harmonics_freq.append(freq_data[idx])\n",
    "            harmonics_amp.append(amp_data[idx])\n",
    "    \n",
    "    return np.array(harmonics_freq), np.array(harmonics_amp)\n",
    "\n",
    "# Extract harmonics for both corners\n",
    "tt_harm_freq, tt_harm_amp = find_harmonics(tt_freq, tt_ampl, F_SIGNAL)\n",
    "ss_harm_freq, ss_harm_amp = find_harmonics(ss_freq, ss_ampl, F_SIGNAL)\n",
    "\n",
    "with plt.rc_context(plot_params):\n",
    "    plt.figure(figsize=(5, 3.5))\n",
    "    \n",
    "    # Convert to dB and create stem plots\n",
    "    tt_harm_db = 20 * np.log10(tt_harm_amp)\n",
    "    ss_harm_db = 20 * np.log10(ss_harm_amp)\n",
    "    \n",
    "    # Create harmonic numbers for x-axis\n",
    "    tt_harmonics = tt_harm_freq / F_SIGNAL - 1\n",
    "    ss_harmonics = ss_harm_freq / F_SIGNAL - 1\n",
    "    \n",
    "    markerline1, stemlines1, baseline1 = plt.stem(tt_harmonics - 0.025, tt_harm_db, linefmt='b-', markerfmt='bo', basefmt=' ', label=f'Typical Corner\\nSDR: {tt_sdr:.1f} dB, ENOB: {tt_enob:.1f}')\n",
    "    plt.setp(stemlines1, 'linewidth', 0.7)\n",
    "    plt.setp(markerline1, 'markersize', 3)\n",
    "    \n",
    "    markerline2, stemlines2, baseline2 = plt.stem(ss_harmonics + 0.025, ss_harm_db, linefmt='r-', markerfmt='rs', basefmt=' ', label=f'Slow Corner\\nSDR: {ss_sdr:.1f} dB, ENOB: {ss_enob:.1f}')\n",
    "    plt.setp(stemlines2, 'linewidth', 0.7)\n",
    "    plt.setp(markerline2, 'markersize', 3)\n",
    "\n",
    "    # Mark 0dB line\n",
    "    plt.axhline(0, color='k', linestyle='--', linewidth=0.5)\n",
    "    \n",
    "    plt.xlabel('Harmonic Number')\n",
    "    plt.ylabel('Amplitude [dB]')\n",
    "    plt.grid(True)\n",
    "    # Legend above below outside the plot\n",
    "    plt.legend(loc='upper center', bbox_to_anchor=(0.5, -0.18), ncol=2, frameon=False)\n",
    "\n",
    "    plt.xticks(np.arange(0, 10, 1))\n",
    "    \n",
    "    plt.title('Transmission Gate Output Harmonics')\n",
    "    plt.tight_layout()\n",
    "    plt.savefig(\"tgate_harmonics.pdf\", bbox_inches='tight')\n",
    "    plt.show()"
   ]
  }
 ],
 "metadata": {
  "kernelspec": {
   "display_name": "Python 3",
   "language": "python",
   "name": "python3"
  },
  "language_info": {
   "codemirror_mode": {
    "name": "ipython",
    "version": 3
   },
   "file_extension": ".py",
   "mimetype": "text/x-python",
   "name": "python",
   "nbconvert_exporter": "python",
   "pygments_lexer": "ipython3",
   "version": "3.12.3"
  }
 },
 "nbformat": 4,
 "nbformat_minor": 5
}
